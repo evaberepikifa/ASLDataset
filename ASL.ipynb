{
 "cells": [
  {
   "cell_type": "code",
   "execution_count": 2,
   "metadata": {},
   "outputs": [],
   "source": [
    "# acess the camera\n",
    "import json\n",
    "import os.path\n",
    "import numpy as np #importing necessary libraries\n",
    "import pandas as pd\n",
    "\n",
    "# Command to open the Windows Camera app\n",
    "#subprocess.run(\"start microsoft.windows.camera:\", shell=True)"
   ]
  },
  {
   "cell_type": "code",
   "execution_count": null,
   "metadata": {},
   "outputs": [],
   "source": [
    "#metadata_file = \"metadata.json\"  # Replace with the actual file name\n",
    "#with open(metadata_file, 'r') as file:\n",
    "   # metadata = json.load(file)"
   ]
  },
  {
   "cell_type": "code",
   "execution_count": 1,
   "metadata": {},
   "outputs": [],
   "source": [
    "class How2signDataset:\n",
    "    def __init__(self, json_files, csv_file, seq_len=183, time_len=512):\n",
    "        self.seq_len = seq_len\n",
    "        self.time_len = time_len\n",
    "        self.json_files = json_files\n",
    "        self.csv_file = csv_file\n",
    "\n",
    "        self.sentence_dict = self.load_y()\n",
    "\n",
    "    def get_x(self, x_path):\n",
    "        # Load the JSON data\n",
    "        with open(x_path, 'r') as f:\n",
    "            data = json.load(f)\n",
    "\n",
    "        # Extract the hand_pose_face keypoints\n",
    "        hand_pose_faces = [person['hand_pose_face'] for person in data['people']]\n",
    "\n",
    "        hand_pose_faces = np.array(hand_pose_faces)\n",
    "        hand_pose_faces = hand_pose_faces.reshape(1, -1, self.seq_len)\n",
    "\n",
    "        # Create an array to store the padded data\n",
    "        x = np.zeros((1, self.time_len, self.seq_len))\n",
    "\n",
    "        # Fill the padded array with the actual data\n",
    "        seq_length = len(hand_pose_faces[0])\n",
    "        x[:, :seq_length, :] = hand_pose_faces[:, :seq_length, :]\n",
    "\n",
    "        return x\n",
    "\n",
    "    def load_y(self):\n",
    "        data = pd.read_csv(self.csv_file, delimiter='\\t', on_bad_lines='skip')\n",
    "        df = data[['SENTENCE_NAME', 'SENTENCE']]\n",
    "        sentence_dict = pd.Series(df.SENTENCE.values, index=df.SENTENCE_NAME).to_dict()\n",
    "\n",
    "        return sentence_dict\n",
    "\n",
    "    def get_y(self, x_base_path):\n",
    "        y = self.sentence_dict.get(x_base_path, \"0\")\n",
    "\n",
    "        return y\n",
    "\n",
    "    def how2sign_keypoints_sentence(self):\n",
    "        # Load the data from multiple files\n",
    "        x = [self.get_x(json_file) for json_file in self.json_files]\n",
    "        x = np.concatenate(x, axis=0)\n",
    "\n",
    "        json_files_base = [json_file.split(\".\")[0] for json_file in self.json_files]\n",
    "        print(json_files_base)\n",
    "        y = [self.get_y(json_file_base) for json_file_base in json_files_base]\n",
    "        y = np.array(y)\n",
    "\n",
    "        # Concatenate the data from the files\n",
    "        return x, y"
   ]
  }
 ],
 "metadata": {
  "kernelspec": {
   "display_name": "Python 3",
   "language": "python",
   "name": "python3"
  },
  "language_info": {
   "codemirror_mode": {
    "name": "ipython",
    "version": 3
   },
   "file_extension": ".py",
   "mimetype": "text/x-python",
   "name": "python",
   "nbconvert_exporter": "python",
   "pygments_lexer": "ipython3",
   "version": "3.10.6"
  }
 },
 "nbformat": 4,
 "nbformat_minor": 2
}
