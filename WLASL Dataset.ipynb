{
 "cells": [
  {
   "cell_type": "code",
   "execution_count": null,
   "metadata": {},
   "outputs": [],
   "source": [
    "import os\n",
    "import torch\n",
    "from torch.utils.data import Dataset, DataLoader\n",
    "from torchvision import transforms\n",
    "from transformers import AutoModelForImageClassification, AutoFeatureExtractor\n",
    "from PIL import Image\n",
    "import nltk\n",
    "from nltk.translate.bleu_score import sentence_bleu"
   ]
  },
  {
   "cell_type": "code",
   "execution_count": null,
   "metadata": {},
   "outputs": [],
   "source": [
    "import json\n",
    "!pip install kaggle"
   ]
  },
  {
   "cell_type": "code",
   "execution_count": 15,
   "metadata": {},
   "outputs": [],
   "source": [
    "import cv2\n",
    "\n",
    "video_path = \"C:/Users/BT_Lab/Downloads/W25/ASLDataset/WLASLDataset/videos/01123.mp4\"  # Adjust path\n",
    "\n",
    "cap = cv2.VideoCapture(video_path)\n",
    "while cap.isOpened():\n",
    "    ret, frame = cap.read()\n",
    "    if not ret:\n",
    "        break\n",
    "\n",
    "    cv2.imshow(\"ASL Video\", frame)\n",
    "\n",
    "    # Press 'q' to exit\n",
    "    if cv2.waitKey(25) & 0xFF == ord('q'):\n",
    "        break\n",
    "\n",
    "cap.release()\n",
    "cv2.destroyAllWindows()"
   ]
  },
  {
   "cell_type": "code",
   "execution_count": null,
   "metadata": {},
   "outputs": [],
   "source": [
    "with open(\"C:/Users/BT_Lab/Downloads/W25/ASLDataset/WLASLDataset/nslt_2000.json\", \"r\") as f:\n",
    "    data = json.load(f)"
   ]
  },
  {
   "cell_type": "code",
   "execution_count": 17,
   "metadata": {},
   "outputs": [
    {
     "name": "stdout",
     "output_type": "stream",
     "text": [
      "Dataset organized successfully!\n"
     ]
    }
   ],
   "source": [
    "import os\n",
    "import shutil\n",
    "\n",
    "# Path to the video files\n",
    "video_path = \"C:/Users/BT_Lab/Downloads/W25/ASLDataset/WLASLDataset/videos\"  # Adjust the path accordingly\n",
    "output_dir = \"C:/Users/BT_Lab/Downloads/W25/ASLDataset/WLASLDataset/sorted_videos\"  # Directory to organize files\n",
    "\n",
    "# Create directories for train, val, and test\n",
    "for subset in [\"train\", \"val\", \"test\"]:\n",
    "    os.makedirs(os.path.join(output_dir, subset), exist_ok=True)\n",
    "\n",
    "# Iterate through JSON data and move files into the corresponding subset folder\n",
    "for video_id, video_info in data.items():\n",
    "    subset = video_info[\"subset\"]  # Get the subset ('train', 'val', 'test')\n",
    "    video_file = f\"{video_id}.mp4\"  # Assuming the video file is named after the video ID\n",
    "    \n",
    "    # If the video file exists in the video folder, move it\n",
    "    if os.path.exists(os.path.join(video_path, video_file)):\n",
    "        shutil.move(os.path.join(video_path, video_file), os.path.join(output_dir, subset, video_file))\n",
    "\n",
    "print(\"Dataset organized successfully!\")"
   ]
  },
  {
   "cell_type": "code",
   "execution_count": 18,
   "metadata": {},
   "outputs": [
    {
     "name": "stdout",
     "output_type": "stream",
     "text": [
      "['0\\tbook', '1\\tdrink', '2\\tcomputer', '3\\tbefore', '4\\tchair', '5\\tgo', '6\\tclothes', '7\\twho', '8\\tcandy', '9\\tcousin']\n"
     ]
    }
   ],
   "source": [
    "with open(\"C:/Users/BT_Lab/Downloads/W25/ASLDataset/WLASLDataset/wlasl_class_list.txt\", \"r\") as f:\n",
    "    class_list = f.readlines()\n",
    "\n",
    "# Clean and print first 10 words\n",
    "class_list = [word.strip() for word in class_list]\n",
    "print(class_list[:10])  # Show first 10 ASL glosses"
   ]
  },
  {
   "cell_type": "code",
   "execution_count": 19,
   "metadata": {},
   "outputs": [
    {
     "name": "stdout",
     "output_type": "stream",
     "text": [
      "[]\n",
      "[]\n"
     ]
    }
   ],
   "source": [
    "import os\n",
    "import cv2  # Assuming OpenCV for video reading\n",
    "import numpy as np\n",
    "\n",
    "# Define directories for train, val, and test sets\n",
    "train_dir = \"C:/Users/BT_Lab/Downloads/W25/ASLDataset/WLASLDataset/sorted_videos/train\"\n",
    "val_dir = \"C:/Users/BT_Lab/Downloads/W25/ASLDataset/WLASLDataset/sorted_videos/val\"\n",
    "test_dir = \"C:/Users/BT_Lab/Downloads/W25/ASLDataset/WLASLDataset/sorted_videos/test\"\n",
    "\n",
    "# Function to load videos and labels\n",
    "def load_data(directory, class_list, data_type=\"train\"):\n",
    "    video_paths = []\n",
    "    labels = []\n",
    "\n",
    "    for class_name in os.listdir(directory):\n",
    "        class_folder = os.path.join(directory, class_name)\n",
    "        \n",
    "        if os.path.isdir(class_folder):  # Ensure it's a directory (class folder)\n",
    "            for video_file in os.listdir(class_folder):\n",
    "                if video_file.endswith(\".mp4\"):  # Assuming videos are in mp4 format\n",
    "                    video_path = os.path.join(class_folder, video_file)\n",
    "                    video_id = int(video_file.split(\".\")[0])  # Extract the ID from filename\n",
    "                    \n",
    "                    # Get the corresponding action label (class ID)\n",
    "                    action_id = data[video_id][\"action\"][0]  # First element of the action list\n",
    "                    label = class_list.get(action_id, \"Unknown\")  # Get the corresponding class name\n",
    "                    \n",
    "                    video_paths.append(video_path)  # Store the video path\n",
    "                    labels.append(label)  # Store the label for this video\n",
    "\n",
    "    return video_paths, labels\n",
    "\n",
    "# Load training, validation, and test data\n",
    "train_video_paths, train_labels = load_data(train_dir, class_list, \"train\")\n",
    "val_video_paths, val_labels = load_data(val_dir, class_list, \"val\")\n",
    "test_video_paths, test_labels = load_data(test_dir, class_list, \"test\")\n",
    "\n",
    "# Example: Print the first 3 entries of train data\n",
    "print(train_video_paths[:3])\n",
    "print(train_labels[:3])"
   ]
  },
  {
   "cell_type": "code",
   "execution_count": 24,
   "metadata": {},
   "outputs": [
    {
     "name": "stdout",
     "output_type": "stream",
     "text": [
      "{'subset': 'train', 'action': [277, 1, 72]}\n"
     ]
    }
   ],
   "source": [
    "print(data[\"65600\"]) \n",
    "#the video is  number 65097 in the train folder of the sorted dataset \n",
    "#Result : {'subset': 'train', 'action': [481, 1, 74]}\n",
    "#481 corresponds to the word ID in the Class list\n",
    "#number  1 corresponds to the signer ID and 74 is the video frame \n"
   ]
  },
  {
   "cell_type": "code",
   "execution_count": 22,
   "metadata": {},
   "outputs": [
    {
     "name": "stdout",
     "output_type": "stream",
     "text": [
      "['0\\tbook', '1\\tdrink', '2\\tcomputer', '3\\tbefore', '4\\tchair', '5\\tgo', '6\\tclothes', '7\\twho', '8\\tcandy', '9\\tcousin', '10\\tdeaf', '11\\tfine', '12\\thelp', '13\\tno', '14\\tthin', '15\\twalk', '16\\tyear', '17\\tyes', '18\\tall', '19\\tblack', '20\\tcool', '21\\tfinish', '22\\thot', '23\\tlike', '24\\tmany', '25\\tmother', '26\\tnow', '27\\torange', '28\\ttable', '29\\tthanksgiving', '30\\twhat', '31\\twoman', '32\\tbed', '33\\tblue', '34\\tbowling', '35\\tcan', '36\\tdog', '37\\tfamily', '38\\tfish', '39\\tgraduate', '40\\that', '41\\thearing', '42\\tkiss', '43\\tlanguage', '44\\tlater', '45\\tman', '46\\tshirt', '47\\tstudy', '48\\ttall', '49\\twhite', '50\\twrong', '51\\taccident', '52\\tapple', '53\\tbird', '54\\tchange', '55\\tcolor', '56\\tcorn', '57\\tcow', '58\\tdance', '59\\tdark', '60\\tdoctor', '61\\teat', '62\\tenjoy', '63\\tforget', '64\\tgive', '65\\tlast', '66\\tmeet', '67\\tpink', '68\\tpizza', '69\\tplay', '70\\tschool', '71\\tsecretary', '72\\tshort', '73\\ttime', '74\\twant', '75\\twork', '76\\tafrica', '77\\tbasketball', '78\\tbirthday', '79\\tbrown', '80\\tbut', '81\\tcheat', '82\\tcity', '83\\tcook', '84\\tdecide', '85\\tfull', '86\\thow', '87\\tjacket', '88\\tletter', '89\\tmedicine', '90\\tneed', '91\\tpaint', '92\\tpaper', '93\\tpull', '94\\tpurple', '95\\tright', '96\\tsame', '97\\tson', '98\\ttell', '99\\tthursday', '100\\tvisit', '101\\twait', '102\\twater', '103\\twife', '104\\tyellow', '105\\tbackpack', '106\\tbar', '107\\tbrother', '108\\tcat', '109\\tcheck', '110\\tclass', '111\\tcry', '112\\tdifferent', '113\\tdoor', '114\\tgreen', '115\\thair', '116\\thave', '117\\theadache', '118\\tinform', '119\\tknife', '120\\tlaugh', '121\\tlearn', '122\\tmovie', '123\\trabbit', '124\\tread', '125\\tred', '126\\troom', '127\\trun', '128\\tshow', '129\\tsick', '130\\tsnow', '131\\ttake', '132\\ttea', '133\\tteacher', '134\\tweek', '135\\twhy', '136\\twith', '137\\twrite', '138\\tyesterday', '139\\tagain', '140\\tbad', '141\\tball', '142\\tbathroom', '143\\tblanket', '144\\tbuy', '145\\tcall', '146\\tcoffee', '147\\tcold', '148\\tcollege', '149\\tcopy', '150\\tcute', '151\\tdaughter', '152\\texample', '153\\tfar', '154\\tfirst', '155\\tfriend', '156\\tgood', '157\\thappy', '158\\thome', '159\\tknow', '160\\tlate', '161\\tleave', '162\\tlist', '163\\tlosear', '164\\tname', '165\\told', '166\\tperson', '167\\tpolice', '168\\tproblem', '169\\tremember', '170\\tshare', '171\\tsoon', '172\\tstay', '173\\tsunday', '174\\ttest', '175\\ttired', '176\\ttrade', '177\\ttravel', '178\\twindow', '179\\tyou', '180\\tabout', '181\\tapprove', '182\\tarrive', '183\\tbalance', '184\\tbanana', '185\\tbeard', '186\\tbecause', '187\\tboy', '188\\tbusiness', '189\\tcareful', '190\\tcenter', '191\\tchat', '192\\tchildren', '193\\tchristmas', '194\\tclock', '195\\tclose', '196\\tconvince', '197\\tcountry', '198\\tcrash', '199\\tday', '200\\tdiscuss', '201\\tdress', '202\\tdrive', '203\\tdrop', '204\\tfat', '205\\tfeel', '206\\tfootball', '207\\tfuture', '208\\tgame', '209\\tgirl', '210\\tgovernment', '211\\thear', '212\\there', '213\\thope', '214\\thouse', '215\\thusband', '216\\tinterest', '217\\tjoin', '218\\tlight', '219\\tlive', '220\\tmake', '221\\tmean', '222\\tmore', '223\\tmost', '224\\tmusic', '225\\tnew', '226\\tnone', '227\\toffice', '228\\torder', '229\\tpants', '230\\tparty', '231\\tpast', '232\\tpencil', '233\\tplan', '234\\tplease', '235\\tpractice', '236\\tpresident', '237\\trestaurant', '238\\tride', '239\\trussia', '240\\tsalt', '241\\tsandwich', '242\\tsign', '243\\tsince', '244\\tsmall', '245\\tsome', '246\\tsouth', '247\\tstudent', '248\\tteach', '249\\ttheory', '250\\ttomato', '251\\ttrain', '252\\tugly', '253\\twar', '254\\twhere', '255\\tyour', '256\\talways', '257\\tanimal', '258\\targue', '259\\tbaby', '260\\tback', '261\\tbake', '262\\tbath', '263\\tbehind', '264\\tbring', '265\\tcatch', '266\\tcereal', '267\\tchampion', '268\\tcheese', '269\\tcough', '270\\tcrazy', '271\\tdelay', '272\\tdelicious', '273\\tdisappear', '274\\tdivorce', '275\\tdraw', '276\\teast', '277\\teasy', '278\\tegg', '279\\tenvironment', '280\\tfather', '281\\tfault', '282\\tflower', '283\\tfriendly', '284\\tglasses', '285\\thalloween', '286\\thard', '287\\theart', '288\\thour', '289\\thumble', '290\\thurry', '291\\timprove', '292\\tinternet', '293\\tjump', '294\\tkill', '295\\tlaw', '296\\tmatch', '297\\tmeat', '298\\tmilk', '299\\tmoney', '300\\tmonth', '301\\tmoon', '302\\tmove', '303\\tnear', '304\\tnephew', '305\\tnice', '306\\tniece', '307\\tnoon', '308\\tnorth', '309\\tnot', '310\\tnurse', '311\\toff', '312\\tok', '313\\tpatient', '314\\tpay', '315\\tperspective', '316\\tpotato', '317\\tsad', '318\\tsaturday', '319\\tsave', '320\\tscissors', '321\\tsecret', '322\\tshoes', '323\\tshop', '324\\tsilly', '325\\tsister', '326\\tsleep', '327\\tsorry', '328\\tstraight', '329\\tsweet', '330\\ttalk', '331\\ttemperature', '332\\ttent', '333\\tthank you', '334\\tthink', '335\\tthrow', '336\\ttoday', '337\\ttraffic', '338\\tunderstand', '339\\tuse', '340\\tvoice', '341\\tvomit', '342\\tvote', '343\\twednesday', '344\\twest', '345\\twet', '346\\twhen', '347\\twhich', '348\\twin', '349\\tword', '350\\tafternoon', '351\\tage', '352\\talone', '353\\tappointment', '354\\taustralia', '355\\tavoid', '356\\tballoon', '357\\tbasement', '358\\tbear', '359\\tbelieve', '360\\tbetter', '361\\tblind', '362\\tbored', '363\\tbowl', '364\\tbox', '365\\tbracelet', '366\\tbread', '367\\tcafeteria', '368\\tcar', '369\\tchicken', '370\\tchild', '371\\tchoose', '372\\tchurch', '373\\tcookie', '374\\tcup', '375\\tcut', '376\\tdecorate', '377\\tdeep', '378\\tdeer', '379\\tdentist', '380\\tdirty', '381\\tdive', '382\\tdown', '383\\tdry', '384\\tear', '385\\tearn', '386\\tearring', '387\\telephant', '388\\tenglish', '389\\tescape', '390\\texpensive', '391\\texplain', '392\\tfast', '393\\tfight', '394\\tfind', '395\\tfishing', '396\\tfloor', '397\\tfly', '398\\tfollow', '399\\tfrom', '400\\tget', '401\\thappen', '402\\thello', '403\\thit', '404\\thospital', '405\\tidea', '406\\timportant', '407\\tinvestigate', '408\\tjapan', '409\\tjealous', '410\\tking', '411\\tkitchen', '412\\tlarge', '413\\tlast year', '414\\tlemon', '415\\tlettuce', '416\\tmarry', '417\\tmeeting', '418\\tminute', '419\\tmirror', '420\\tmiss', '421\\tmonkey', '422\\tmorning', '423\\tmotorcycle', '424\\tnecklace', '425\\tnever', '426\\tnewspaper', '427\\tnight', '428\\tonion', '429\\tpeople', '430\\tpepper', '431\\tphone', '432\\tpicture', '433\\tplus', '434\\tpoint', '435\\tpoor', '436\\tpossible', '437\\tquiet', '438\\train', '439\\tready', '440\\tresearch', '441\\tscared', '442\\tscience', '443\\tscore', '444\\tsentence', '445\\tshape', '446\\tsit', '447\\tslow', '448\\tsnake', '449\\tsoap', '450\\tsoda', '451\\tspeech', '452\\tstar', '453\\tstink', '454\\tstruggle', '455\\tstubborn', '456\\tsunset', '457\\tsurgery', '458\\tthere', '459\\ttiger', '460\\ttoast', '461\\ttoilet', '462\\ttomorrow', '463\\ttown', '464\\ttransfer', '465\\ttree', '466\\ttruck', '467\\tuncle', '468\\tvacation', '469\\tweather', '470\\tweekend', '471\\taccept', '472\\tadult', '473\\tafter', '474\\tago', '475\\tallow', '476\\tamerica', '477\\tangel', '478\\tanswer', '479\\tany', '480\\tarea', '481\\tart', '482\\tasl', '483\\taunt', '484\\tawful', '485\\tawkward', '486\\tbacon', '487\\tbark', '488\\tbedroom', '489\\tbeer', '490\\tbelt', '491\\tbig', '492\\tbitter', '493\\tboth', '494\\tcake', '495\\tcalifornia', '496\\tcanada', '497\\tcarrot', '498\\tcause', '499\\tchallenge', '500\\tcheap', '501\\tchocolate', '502\\tclean', '503\\tcloud', '504\\tcompare', '505\\tcomplex', '506\\tcontact', '507\\tcontinue', '508\\tcorner', '509\\tcorrect', '510\\tcurse', '511\\tdead', '512\\tdemand', '513\\tdepend', '514\\tdesert', '515\\tdesk', '516\\tdevelop', '517\\tdictionary', '518\\tdoll', '519\\tduty', '520\\teaster', '521\\tegypt', '522\\televator', '523\\temail', '524\\tend', '525\\tenter', '526\\teurope', '527\\tevent', '528\\texchange', '529\\texperience', '530\\tface', '531\\tfail', '532\\tfeed', '533\\tfew', '534\\tflag', '535\\tfood', '536\\tfor', '537\\tform', '538\\tfreeze', '539\\tfriday', '540\\tfront', '541\\tgiraffe', '542\\tgod', '543\\tgrammar', '544\\tgrandfather', '545\\tgreat', '546\\tgreece', '547\\tguess', '548\\tguitar', '549\\thammer', '550\\thelicopter', '551\\thigh', '552\\thistory', '553\\thungry', '554\\thurt', '555\\tintroduce', '556\\tinvest', '557\\tlazy', '558\\tlibrary', '559\\tlie', '560\\tlobster', '561\\tlove', '562\\tlucky', '563\\tmagazine', '564\\tmeasure', '565\\tmicrowave', '566\\tmy', '567\\tneighbor', '568\\tnumber', '569\\tone', '570\\toutside', '571\\tpeach', '572\\tpig', '573\\tpolite', '574\\tpostpone', '575\\tpower', '576\\tpresent', '577\\tprice', '578\\tprison', '579\\tpush', '580\\traccoon', '581\\treally', '582\\treason', '583\\treligion', '584\\trespect', '585\\trule', '586\\tsalad', '587\\tschedule', '588\\tsell', '589\\tserious', '590\\tshower', '591\\tsingle', '592\\tsmart', '593\\tsmile', '594\\tsoft', '595\\tsound', '596\\tsoup', '597\\tspain', '598\\tspray', '599\\tsquirrel', '600\\tstomach', '601\\tstory', '602\\tstrange', '603\\tstreet', '604\\tstress', '605\\tstrict', '606\\tstrong', '607\\tsugar', '608\\tsummer', '609\\tsuspect', '610\\tsweetheart', '611\\ttease', '612\\tthat', '613\\tthemselves', '614\\ttherapy', '615\\tthirsty', '616\\tticket', '617\\ttop', '618\\ttuesday', '619\\tturkey', '620\\tuniversity', '621\\tuntil', '622\\twatch', '623\\tweak', '624\\twedding', '625\\twill', '626\\twind', '627\\tworld', '628\\tworry', '629\\twow', '630\\tyoung', '631\\tadd', '632\\tairplane', '633\\talready', '634\\talso', '635\\tanalyze', '636\\tand', '637\\tangry', '638\\tappear', '639\\tarm', '640\\tarmy', '641\\tarrest', '642\\tasia', '643\\task', '644\\tattitude', '645\\tattract', '646\\tbald', '647\\tbarely', '648\\tbaseball', '649\\tbeg', '650\\tbenefit', '651\\tbite', '652\\tblame', '653\\tboat', '654\\tbody', '655\\tborrow', '656\\tboss', '657\\tbother', '658\\tbottle', '659\\tbottom', '660\\tbrag', '661\\tbuild', '662\\tbus', '663\\tbutter', '664\\tcalm', '665\\tcancel', '666\\tcandle', '667\\tcards', '668\\tchoice', '669\\tcomb', '670\\tcomfortable', '671\\tconflict', '672\\tcover', '673\\tdeodorant', '674\\tdessert', '675\\tdestroy', '676\\tdiamond', '677\\tdollar', '678\\tdrawer', '679\\tdream', '680\\tdrunk', '681\\tduck', '682\\tduring', '683\\teagle', '684\\tearly', '685\\tequal', '686\\tevery', '687\\texcited', '688\\texercise', '689\\texperiment', '690\\texpert', '691\\tfact', '692\\tfear', '693\\tfeedback', '694\\tfold', '695\\tforest', '696\\tfrance', '697\\tfrog', '698\\tfunny', '699\\tgarage', '700\\tgoal', '701\\tgolf', '702\\tgone', '703\\tgossip', '704\\tgrandmother', '705\\tgrapes', '706\\tgroup', '707\\tguilty', '708\\thamburger', '709\\thate', '710\\thead', '711\\ther', '712\\thorse', '713\\tignore', '714\\timpossible', '715\\tin', '716\\tindependent', '717\\tinside', '718\\tinsurance', '719\\tisland', '720\\tlecture', '721\\tlesson', '722\\tlimit', '723\\tlion', '724\\tlisten', '725\\tmarch', '726\\tmath', '727\\tmaybe', '728\\tmechanic', '729\\tmom', '730\\tmouse', '731\\tmuch', '732\\tmuscle', '733\\tmuseum', '734\\tmust', '735\\tmustache', '736\\tnegative', '737\\tnervous', '738\\tneutral', '739\\tnose', '740\\toften', '741\\toperate', '742\\topinion', '743\\tother', '744\\tpass', '745\\tpillow', '746\\tprepare', '747\\tpretty', '748\\tpriest', '749\\tprogram', '750\\tpromise', '751\\tput', '752\\tqueen', '753\\tquit', '754\\tradio', '755\\trat', '756\\treject', '757\\trequire', '758\\trest', '759\\tretire', '760\\trise', '761\\triver', '762\\trough', '763\\tsee', '764\\tseem', '765\\tsend', '766\\tsew', '767\\tsheep', '768\\tshine', '769\\tshock', '770\\tshould', '771\\tsilent', '772\\tskinny', '773\\tskirt', '774\\tsky', '775\\tsour', '776\\tspecial', '777\\tspirit', '778\\tstaff', '779\\tstand', '780\\tsteal', '781\\tstop', '782\\tstupid', '783\\tsummon', '784\\tsunrise', '785\\tswallow', '786\\ttelevision', '787\\tto', '788\\ttogether', '789\\ttranslate', '790\\ttriangle', '791\\tturtle', '792\\tunderwear', '793\\tup', '794\\tupset', '795\\tviolin', '796\\tvolunteer', '797\\twarm', '798\\twarn', '799\\twash', '800\\twine', '801\\twitness', '802\\twood', '803\\tzero', '804\\tacross', '805\\tactor', '806\\tagree', '807\\talarm', '808\\tallergy', '809\\talmost', '810\\tannounce', '811\\tapartment', '812\\tattention', '813\\taudience', '814\\taugust', '815\\tautumn', '816\\taway', '817\\tbeautiful', '818\\tbecome', '819\\tbelow', '820\\tbest', '821\\tbet', '822\\tbicycle', '823\\tbiology', '824\\tboyfriend', '825\\tbreak', '826\\tbridge', '827\\tbrush', '828\\tbuilding', '829\\tbusy', '830\\tcamera', '831\\tcamp', '832\\tcaption', '833\\tcare', '834\\tcarry', '835\\tcelebrate', '836\\tcertificate', '837\\tchain', '838\\tchance', '839\\tcharacter', '840\\tchase', '841\\tclassroom', '842\\tclear', '843\\tclimb', '844\\tcommand', '845\\tcommunity', '846\\tcomplain', '847\\tcompromise', '848\\tcontribute', '849\\tcop', '850\\tcost', '851\\tcouch', '852\\tcracker', '853\\tcurious', '854\\tcurriculum', '855\\tdad', '856\\tdeny', '857\\tdescribe', '858\\tdiaper', '859\\tdiarrhea', '860\\tdisagree', '861\\tdissolve', '862\\tdivide', '863\\tdolphin', '864\\tdouble', '865\\tdoubt', '866\\tdumb', '867\\tearth', '868\\tearthquake', '869\\teight', '870\\tembarrass', '871\\temotion', '872\\tencourage', '873\\tenergy', '874\\tenough', '875\\tevaluate', '876\\tevidence', '877\\texact', '878\\texaggerate', '879\\texpect', '880\\tfancy', '881\\tfavorite', '882\\tfinally', '883\\tfox', '884\\tfrench', '885\\tfruit', '886\\tfunction', '887\\tgather', '888\\tgermany', '889\\tgloves', '890\\tgoat', '891\\tgoodbye', '892\\tgrow', '893\\tgum', '894\\thalf', '895\\thawaii', '896\\therself', '897\\thighway', '898\\thomework', '899\\thonor', '900\\tice cream', '901\\tif', '902\\tincrease', '903\\tindia', '904\\tinformation', '905\\tinterpret', '906\\tinterview', '907\\tinvite', '908\\tisrael', '909\\tjesus', '910\\tkeep', '911\\tkeyboard', '912\\tland', '913\\tlawyer', '914\\tlead', '915\\tlesbian', '916\\tline', '917\\tlock', '918\\tloud', '919\\tlousy', '920\\tlunch', '921\\tmachine', '922\\tmad', '923\\tmemorize', '924\\tminus', '925\\tmonday', '926\\tmountain', '927\\tmouth', '928\\tmushroom', '929\\tnapkin', '930\\tneck', '931\\tnext', '932\\tocean', '933\\topen', '934\\toverwhelm', '935\\towe', '936\\tpage', '937\\tpain', '938\\tparade', '939\\tparents', '940\\tperfect', '941\\tperiod', '942\\tphilosophy', '943\\tphotographer', '944\\tplace', '945\\tpolicy', '946\\tpopular', '947\\tpray', '948\\tpredict', '949\\tpresentation', '950\\tprint', '951\\tprinter', '952\\tprivate', '953\\tprocrastinate', '954\\tproject', '955\\tprotect', '956\\tprove', '957\\tprovide', '958\\tpsychology', '959\\tpunish', '960\\tpuzzled', '961\\tquestion', '962\\tquick', '963\\trainbow', '964\\trake', '965\\trehearse', '966\\tremove', '967\\trevenge', '968\\treview', '969\\trich', '970\\troof', '971\\trooster', '972\\trude', '973\\tsay', '974\\tscientist', '975\\tscotland', '976\\tscrewdriver', '977\\tsecond', '978\\tsenate', '979\\tseparate', '980\\tservice', '981\\tshrimp', '982\\tshy', '983\\tside', '984\\tsituation', '985\\tslave', '986\\tsoccer', '987\\tsocks', '988\\tsolid', '989\\tsometimes', '990\\tspider', '991\\tspin', '992\\tsquare', '993\\tstairs', '994\\tstare', '995\\tstart', '996\\tstore', '997\\tstraw', '998\\tstructure', '999\\tsuggest', '1000\\tsun', '1001\\tsupport', '1002\\tsuppose', '1003\\tsure', '1004\\tsurprise', '1005\\tsweater', '1006\\tswim', '1007\\tsymbol', '1008\\ttaste', '1009\\tteam', '1010\\ttelephone', '1011\\ttennis', '1012\\ttheir', '1013\\tthen', '1014\\tthermometer', '1015\\tthing', '1016\\tthird', '1017\\tthousand', '1018\\tthree', '1019\\ttie', '1020\\ttopic', '1021\\ttouch', '1022\\ttournament', '1023\\ttry', '1024\\ttwo', '1025\\ttype', '1026\\tumbrella', '1027\\tvegetable', '1028\\tvocabulary', '1029\\twaste', '1030\\twe', '1031\\twear', '1032\\tweekly', '1033\\twelcome', '1034\\twinter', '1035\\twithout', '1036\\twolf', '1037\\tworm', '1038\\twristwatch', '1039\\tyourself', '1040\\tabove', '1041\\taccomplish', '1042\\tadopt', '1043\\tadvantage', '1044\\talphabet', '1045\\tanniversary', '1046\\tanother', '1047\\tappropriate', '1048\\tarrogant', '1049\\tartist', '1050\\tbackground', '1051\\tbee', '1052\\tbehavior', '1053\\tbell', '1054\\tbirth', '1055\\tbless', '1056\\tblood', '1057\\tboots', '1058\\tbrave', '1059\\tbreathe', '1060\\tbright', '1061\\tbull', '1062\\tbutterfly', '1063\\tcard', '1064\\tcategory', '1065\\tcatholic', '1066\\tcent', '1067\\tchemistry', '1068\\tcherry', '1069\\tchina', '1070\\tchop', '1071\\tchristian', '1072\\tcigarette', '1073\\tclever', '1074\\tclown', '1075\\tcoach', '1076\\tcoat', '1077\\tcochlear implant', '1078\\tcoconut', '1079\\tcommon', '1080\\tcommute', '1081\\tcontrol', '1082\\tcount', '1083\\tculture', '1084\\tdaily', '1085\\tdefend', '1086\\tdegree', '1087\\tdemonstrate', '1088\\tdepartment', '1089\\tdie', '1090\\tdig', '1091\\tdinner', '1092\\tdinosaur', '1093\\tdiploma', '1094\\tdirector', '1095\\tdisconnect', '1096\\tdiscover', \"1097\\tdon't want\", '1098\\tdrum', '1099\\teach', '1100\\teducate', '1101\\telectrician', '1102\\tempty', '1103\\tengland', '1104\\testablish', '1105\\texcuse', '1106\\teyeglasses', '1107\\tfaculty', '1108\\tfall in love', '1109\\tfamous', '1110\\tfarm', '1111\\tfence', '1112\\tfix', '1113\\tflexible', '1114\\tflirt', '1115\\tflood', '1116\\tfork', '1117\\tfour', '1118\\tfun', '1119\\tfuneral', '1120\\tfurniture', '1121\\tgallaudet', '1122\\tgeneral', '1123\\tghost', '1124\\tgive up', '1125\\tglass', '1126\\tgorilla', '1127\\tgray', '1128\\tguide', '1129\\thabit', '1130\\thealth', '1131\\thearing aid', '1132\\theaven', '1133\\theavy', '1134\\thelmet', '1135\\thide', '1136\\thigh school', '1137\\thockey', '1138\\thold', '1139\\thonest', '1140\\thug', '1141\\thunt', '1142\\timage', '1143\\tinfluence', '1144\\tinteresting', '1145\\tinterpreter', '1146\\tiran', '1147\\titaly', '1148\\tjewish', '1149\\tjudge', '1150\\tkey', '1151\\tlabel', '1152\\tleaf', '1153\\tleft', '1154\\tlend', '1155\\tless', '1156\\tlinguistics', '1157\\tlonely', '1158\\tlong', '1159\\tmagic', '1160\\tmainstream', '1161\\tmajor', '1162\\tmanager', '1163\\tmaximum', '1164\\tme', '1165\\tmexico', '1166\\tmiddle', '1167\\tmind', '1168\\tmisunderstand', '1169\\tmonster', '1170\\tmultiply', '1171\\tmyself', '1172\\tnothing', '1173\\toctober', '1174\\todd', '1175\\toffer', '1176\\ton', '1177\\tonly', '1178\\topposite', '1179\\tout', '1180\\toverlook', '1181\\tpath', '1182\\tpercent', '1183\\tphysics', '1184\\tpiano', '1185\\tpick', '1186\\tpie', '1187\\tplate', '1188\\tpocket', '1189\\tpopcorn', '1190\\tpositive', '1191\\tpregnant', '1192\\tprevent', '1193\\tproof', '1194\\tpumpkin', '1195\\tpurpose', '1196\\trace', '1197\\trealize', '1198\\trecognize', '1199\\trefuse', '1200\\trelationship', '1201\\trepeat', '1202\\treplace', '1203\\treport', '1204\\trepresent', '1205\\trequest', '1206\\tresponsibility', '1207\\tresult', '1208\\treveal', '1209\\tring', '1210\\trob', '1211\\trock', '1212\\trole', '1213\\trope', '1214\\trush', '1215\\tsalute', '1216\\tsatisfy', '1217\\tsearch', '1218\\tselfish', '1219\\tsensitive', '1220\\tserve', '1221\\tseven', '1222\\tshampoo', '1223\\tshe', '1224\\tshelf', '1225\\tshopping', '1226\\tsign language', '1227\\tsimilar', '1228\\tsing', '1229\\tsix', '1230\\tskeleton', '1231\\tsketch', '1232\\tskill', '1233\\tsleepy', '1234\\tslip', '1235\\tsmell', '1236\\tsneeze', '1237\\tsnob', '1238\\tspecific', '1239\\tstamp', '1240\\tsteel', '1241\\tstrawberry', '1242\\tsubtract', '1243\\tsubway', '1244\\tsuffer', '1245\\tsurface', '1246\\tsweep', '1247\\tswing', '1248\\tswitzerland', '1249\\ttale', '1250\\ttan', '1251\\tteeth', '1252\\tterrible', '1253\\tthankful', '1254\\tthey', '1255\\tthrough', '1256\\ttiptoe', '1257\\ttitle', '1258\\ttooth', '1259\\ttoothbrush', '1260\\ttotal', '1261\\ttough', '1262\\ttradition', '1263\\ttrophy', '1264\\ttrouble', '1265\\ttrue', '1266\\ttrust', '1267\\tunder', '1268\\tverb', '1269\\twall', '1270\\twatermelon', '1271\\tway', '1272\\tweird', '1273\\twhile', '1274\\twide', '1275\\twilling', '1276\\twish', '1277\\twonderful', '1278\\tworkshop', '1279\\tworse', '1280\\twrench', '1281\\ta', '1282\\ta lot', '1283\\tabdomen', '1284\\table', '1285\\taccountant', '1286\\taction', '1287\\tactive', '1288\\tactivity', '1289\\taddress', '1290\\taffect', '1291\\tafraid', '1292\\tagainst', '1293\\tagenda', '1294\\tahead', '1295\\taim', '1296\\talcohol', '1297\\talgebra', '1298\\tall day', '1299\\tamazing', '1300\\tangle', '1301\\tapart', '1302\\tapostrophe', '1303\\tappetite', '1304\\tappreciate', '1305\\tapril', '1306\\tarchery', '1307\\taround', '1308\\tarticle', '1309\\tassistant', '1310\\tattend', '1311\\tauction', '1312\\tauthority', '1313\\taverage', '1314\\tawake', '1315\\tb', '1316\\tbabysitter', '1317\\tbattle', '1318\\tbeginning', '1319\\tbelief', '1320\\tbible', '1321\\tbike', '1322\\tblend', '1323\\tbone', '1324\\tbra', '1325\\tbrief', '1326\\tbroke', '1327\\tbug', '1328\\tbully', '1329\\tbutton', '1330\\tcabbage', '1331\\tcabinet', '1332\\tcalculate', '1333\\tcalculator', '1334\\tcalculus', '1335\\tcamping', '1336\\tcanoe', '1337\\tcareless', '1338\\tceiling', '1339\\tcemetery', '1340\\tchapter', '1341\\tchoir', '1342\\tcircle', '1343\\tcome', '1344\\tcome here', '1345\\tcompany', '1346\\tcomplete', '1347\\tconcept', '1348\\tconcern', '1349\\tconfront', '1350\\tconfused', '1351\\tcongress', '1352\\tconnect', '1353\\tconquer', '1354\\tconstitution', '1355\\tcontract', '1356\\tcourt', '1357\\tcrab', '1358\\tcross', '1359\\tcruel', '1360\\tcrush', '1361\\tdate', '1362\\tdecember', '1363\\tdecrease', '1364\\tdeduct', '1365\\tdefeat', '1366\\tdeposit', '1367\\tdepressed', '1368\\tdetach', '1369\\tdetermine', '1370\\tdiabetes', '1371\\tdime', '1372\\tdirt', '1373\\tdisgust', '1374\\tdismiss', '1375\\tdizzy', '1376\\tdocument', '1377\\tdorm', '1378\\tdormitory', '1379\\tdownstairs', '1380\\teconomy', '1381\\teducation', '1382\\teffort', '1383\\teighteen', '1384\\tengage', '1385\\tengagement', '1386\\tengineer', '1387\\tenvelope', '1388\\terase', '1389\\teternity', '1390\\tevening', '1391\\teveryday', '1392\\texpand', '1393\\teye', '1394\\teyes', '1395\\tfake', '1396\\tfarmer', '1397\\tfebruary', '1398\\tfederal', '1399\\tfinal', '1400\\tflorida', '1401\\tflute', '1402\\tforbid', '1403\\tforever', '1404\\tfourth', '1405\\tfree', '1406\\tfrench fries', '1407\\tgamble', '1408\\tgas', '1409\\tgasoline', '1410\\tgeneration', '1411\\tgeography', '1412\\tgerman', '1413\\tgirlfriend', '1414\\tgold', '1415\\tgrandma', '1416\\tgrass', '1417\\tgrow up', '1418\\tgun', '1419\\thaircut', '1420\\thard of hearing', '1421\\thippopotamus', '1422\\this', '1423\\thoney', '1424\\thurricane', '1425\\tidentify', '1426\\tinclude', '1427\\tinfection', '1428\\tinnocent', '1429\\tinsect', '1430\\tinstead', '1431\\tinstitute', '1432\\tinternational', '1433\\tinterrupt', '1434\\tinvolve', '1435\\tjail', '1436\\tjanuary', '1437\\tjoke', '1438\\tjune', '1439\\tkangaroo', '1440\\tkarate', '1441\\tkick', '1442\\tkneel', '1443\\tknock', '1444\\tlaptop', '1445\\tlift', '1446\\tlightning', '1447\\tlip', '1448\\tlipstick', '1449\\tlocal', '1450\\tmanage', '1451\\tmature', '1452\\tmember', '1453\\tmessage', '1454\\tmetal', '1455\\tmicrophone', '1456\\tmix', '1457\\tmonthly', '1458\\tmotor', '1459\\tnation', '1460\\tnetwork', '1461\\tnickel', '1462\\tnineteen', '1463\\tnormal', '1464\\tnovember', '1465\\tnut', '1466\\toctopus', '1467\\tonce', '1468\\torganize', '1469\\tover', '1470\\towl', '1471\\tp', '1472\\tparachute', '1473\\tparagraph', '1474\\tparallel', '1475\\tpay attention', '1476\\tpeace', '1477\\tpeanut butter', '1478\\tperfume', '1479\\tpersonality', '1480\\tpet', '1481\\tphiladelphia', '1482\\tphysician', '1483\\tpiece', '1484\\tpity', '1485\\tplant', '1486\\tplenty', '1487\\tpneumonia', '1488\\tpolitics', '1489\\tposition', '1490\\tpound', '1491\\tpour', '1492\\tpraise', '1493\\tpreach', '1494\\tpreacher', '1495\\tprefer', '1496\\tpressure', '1497\\tprincipal', '1498\\tpriority', '1499\\tprofessional', '1500\\tprofessor', '1501\\tpromote', '1502\\tprostitute', '1503\\tproud', '1504\\tquote', '1505\\treceive', '1506\\trecent', '1507\\treduce', '1508\\trefer', '1509\\treferee', '1510\\trelate', '1511\\trelax', '1512\\tremote control', '1513\\trent', '1514\\treputation', '1515\\tresign', '1516\\tresponsible', '1517\\tridiculous', '1518\\troad', '1519\\trobot', '1520\\trubber', '1521\\tsafe', '1522\\tsauce', '1523\\tsausage', '1524\\tscold', '1525\\tsenior', '1526\\tseptember', '1527\\tseveral', '1528\\tshame', '1529\\tshave', '1530\\tshoot', '1531\\tshoulder', '1532\\tsilver', '1533\\tsimple', '1534\\tsiren', '1535\\tsize', '1536\\tskate', '1537\\tskin', '1538\\tskunk', '1539\\tslice', '1540\\tsmooth', '1541\\tsnack', '1542\\tsnowman', '1543\\tsociety', '1544\\tsomeone', '1545\\tsong', '1546\\tsore throat', '1547\\tsouth america', '1548\\tspanish', '1549\\tspeak', '1550\\tspeed', '1551\\tspell', '1552\\tspoon', '1553\\tspring', '1554\\tstandard', '1555\\tstatistics', '1556\\tsticky', '1557\\tstill', '1558\\tstretch', '1559\\tsurgeon', '1560\\tsweden', '1561\\tswimsuit', '1562\\tsympathy', '1563\\ttake turns', '1564\\ttake up', '1565\\ttechnology', '1566\\ttemple', '1567\\ttender', '1568\\tthailand', '1569\\ttheater', '1570\\tthem', '1571\\ttheme', '1572\\tthick', '1573\\tthis', '1574\\tthroat', '1575\\ttissue', '1576\\ttongue', '1577\\ttonight', '1578\\ttornado', '1579\\ttower', '1580\\ttranquil', '1581\\ttransform', '1582\\ttutor', '1583\\ttwin', '1584\\tunited states', '1585\\tvalue', '1586\\tvisitor', '1587\\twaiter', '1588\\twake up', '1589\\twallet', '1590\\twander', '1591\\twash face', '1592\\tweight', '1593\\twhale', '1594\\twhatever', '1595\\twithin', '1596\\twonder', '1597\\tworker', '1598\\tworthless', '1599\\twrap', '1600\\taccent', '1601\\tact', '1602\\tadapt', '1603\\tadjective', '1604\\tadjust', '1605\\tadmire', '1606\\tadmit', '1607\\tadvanced', '1608\\tadverb', '1609\\tagreement', '1610\\taid', '1611\\talligator', '1612\\tamputate', '1613\\tanatomy', '1614\\tannoy', '1615\\tanyway', '1616\\tapproach', '1617\\tarizona', '1618\\tassist', '1619\\tassume', '1620\\tattorney', '1621\\taudiologist', '1622\\taudiology', '1623\\taustria', '1624\\tauthor', '1625\\tavailable', '1626\\taward', '1627\\taware', '1628\\tbank', '1629\\tbaptize', '1630\\tbasic', '1631\\tbattery', '1632\\tberry', '1633\\tbeside', '1634\\tbetween', '1635\\tbinoculars', '1636\\tblow', '1637\\tboast', '1638\\tboil', '1639\\tbookshelf', '1640\\tbookstore', '1641\\tboxing', '1642\\tbraid', '1643\\tbrain', '1644\\tbreakdown', '1645\\tbreakfast', '1646\\tbreeze', '1647\\tbribe', '1648\\tbrochure', '1649\\tbuffalo', '1650\\tburp', '1651\\tbush', '1652\\tbye', '1653\\tcamel', '1654\\tcandidate', '1655\\tcannot', '1656\\tcaptain', '1657\\tcarnival', '1658\\tcaterpillar', '1659\\tcheerleader', '1660\\tchemical', '1661\\tchicago', '1662\\tchoke', '1663\\tchrist', '1664\\tclick', '1665\\tcloset', '1666\\tclueless', '1667\\tclumsy', '1668\\tcollect', '1669\\tcomma', '1670\\tcomment', '1671\\tcommit', '1672\\tcommittee', '1673\\tcommon sense', '1674\\tcompete', '1675\\tconcentrate', '1676\\tcongratulations', '1677\\tconsider', '1678\\tconstruct', '1679\\tconsume', '1680\\tcontest', '1681\\tconversation', '1682\\tconvert', '1683\\tcooperate', '1684\\tcounsel', '1685\\tcounselor', '1686\\tcrave', '1687\\tcreate', '1688\\tcrocodile', '1689\\tcrown', '1690\\tcuba', '1691\\tcurtain', '1692\\tcustomer', '1693\\td', '1694\\tdamage', '1695\\tdancer', '1696\\tdanger', '1697\\tdangerous', '1698\\tdawn', '1699\\tdeath', '1700\\tdebate', '1701\\tdebt', '1702\\tdeliver', '1703\\tdemocrat', '1704\\tdescend', '1705\\tdesign', '1706\\tdetective', '1707\\tdevil', '1708\\tdice', '1709\\tdifficult', '1710\\tdining room', '1711\\tdiscipline', '1712\\tdiscount', '1713\\tdisgusted', '1714\\tdisturb', '1715\\tdivision', '1716\\tdone', '1717\\tdrag', '1718\\tdragon', '1719\\tdrama', '1720\\tdrug', '1721\\tdue', '1722\\tdull', '1723\\tdusk', '1724\\tdvd', '1725\\tdye', '1726\\te', '1727\\teither', '1728\\telectricity', '1729\\telementary', '1730\\telse', '1731\\temergency', '1732\\tengine', '1733\\tenormous', '1734\\teraser', '1735\\tevery monday', '1736\\tevery tuesday', '1737\\teverything', '1738\\texcept', '1739\\texhibit', '1740\\texplode', '1741\\texpress', '1742\\tf', '1743\\tfairy', '1744\\tfamiliar', '1745\\tfestival', '1746\\tfinance', '1747\\tfingerspell', '1748\\tfire', '1749\\tfirefighter', '1750\\tfive', '1751\\tflatter', '1752\\tfool', '1753\\tforgive', '1754\\tformer', '1755\\tfreeway', '1756\\tfrom now on', '1757\\tg', '1758\\tgang', '1759\\tgay', '1760\\tgeometry', '1761\\tget up', '1762\\tgift', '1763\\tgrab', '1764\\tgraduation', '1765\\tgrateful', '1766\\tgrey', '1767\\tgymnastics', '1768\\th', '1769\\thang up', '1770\\thanukkah', '1771\\theap', '1772\\theart attack', '1773\\thill', '1774\\tholy', '1775\\thop', '1776\\thost', '1777\\thot dog', '1778\\thuman', '1779\\ti', '1780\\till', '1781\\tillegal', '1782\\timpact', '1783\\tindividual', '1784\\tinspect', '1785\\tinspire', '1786\\tintersection', '1787\\tireland', '1788\\tiron', '1789\\tj', '1790\\tjewelry', '1791\\tjourney', '1792\\tjoy', '1793\\tjuly', '1794\\tk', '1795\\tkid', '1796\\tkindergarten', '1797\\tlady', '1798\\tlamp', '1799\\tlast week', '1800\\tlaundry', '1801\\tleader', '1802\\tleague', '1803\\tleak', '1804\\tlegal', '1805\\tlet', '1806\\tliability', '1807\\tlibrarian', '1808\\tlicense', '1809\\tlittle bit', '1810\\tloan', '1811\\tlook at', '1812\\tlook for', '1813\\tlord', '1814\\tm', '1815\\tmeaning', '1816\\tmelody', '1817\\tmelt', '1818\\tmention', '1819\\tmicroscope', '1820\\tmidnight', '1821\\tmilitary', '1822\\tmine', '1823\\tmistake', '1824\\tmock', '1825\\tmoose', '1826\\tmosquito', '1827\\tmotivate', '1828\\tmurder', '1829\\tn', '1830\\tnarrow', '1831\\tnecessary', '1832\\tnegotiate', '1833\\tnew york', '1834\\tnine', '1835\\tnorthwest', '1836\\tnot yet', '1837\\tnotice', '1838\\tnumerous', '1839\\tnun', '1840\\to', '1841\\tobjective', '1842\\tobsess', '1843\\tobtain', '1844\\toccur', '1845\\todor', '1846\\tolympics', '1847\\tor', '1848\\toral', '1849\\tour', '1850\\tovercome', '1851\\tpack', '1852\\tpainter', '1853\\tpart', '1854\\tpause', '1855\\tpeaceful', '1856\\tpear', '1857\\tpeel', '1858\\tpenalty', '1859\\tpennsylvania', '1860\\tpenny', '1861\\tpermit', '1862\\tphrase', '1863\\tpickle', '1864\\tpilot', '1865\\tplayer', '1866\\tpolar bear', '1867\\tpoliceman', '1868\\tpoop', '1869\\tpost', '1870\\tpotential', '1871\\tpoverty', '1872\\tprecious', '1873\\tprecipitation', '1874\\tprecise', '1875\\tpreschool', '1876\\tpride', '1877\\tprince', '1878\\tprincess', '1879\\tprinciple', '1880\\tprocess', '1881\\tprofit', '1882\\tprogress', '1883\\tpropaganda', '1884\\tproper', '1885\\tpsychologist', '1886\\tpublic', '1887\\tpublish', '1888\\tpurchase', '1889\\tpure', '1890\\tpursue', '1891\\tput off', '1892\\tq', '1893\\tquality', '1894\\tquarrel', '1895\\tquarter', '1896\\tr', '1897\\trage', '1898\\trather', '1899\\treal', '1900\\trecliner', '1901\\trecommend', '1902\\trecover', '1903\\tregular', '1904\\trelease', '1905\\trelief', '1906\\trely', '1907\\treply', '1908\\trescue', '1909\\tresist', '1910\\trestroom', '1911\\tretreat', '1912\\troar', '1913\\trobber', '1914\\troommate', '1915\\trose', '1916\\truin', '1917\\ts', '1918\\tsalary', '1919\\tsaw', '1920\\tscan', '1921\\tscream', '1922\\tsculpture', '1923\\tsea', '1924\\tseldom', '1925\\tsequence', '1926\\tsettle', '1927\\tshout', '1928\\tshovel', '1929\\tsin', '1930\\tsinger', '1931\\tsixteen', '1932\\tski', '1933\\tskip', '1934\\tsmoking', '1935\\tsofa', '1936\\tsoldier', '1937\\tsolve', '1938\\tsomeday', '1939\\tsomething', '1940\\tsomewhere', '1941\\tsoul', '1942\\tspill', '1943\\tspit', '1944\\tspread', '1945\\tsprint', '1946\\tsqueeze', '1947\\tstadium', '1948\\tstepfather', '1949\\tsting', '1950\\tstir', '1951\\tstitch', '1952\\tstuck', '1953\\tsue', '1954\\tsunshine', '1955\\tsuperman', '1956\\tsurrender', '1957\\tsuspend', '1958\\tswimming', '1959\\tt', '1960\\ttalent', '1961\\ttelescope', '1962\\ttempt', '1963\\tten', '1964\\ttend', '1965\\ttestify', '1966\\ttexas', '1967\\ttext', '1968\\tthan', '1969\\ttherefore', '1970\\tthrill', '1971\\ttobacco', '1972\\ttoilet paper', '1973\\ttolerate', '1974\\ttorture', '1975\\ttowel', '1976\\ttrip', '1977\\ttruth', '1978\\tturn', '1979\\ttv', '1980\\tu', '1981\\tunique', '1982\\tupstairs', '1983\\tv', '1984\\tvacant', '1985\\tvague', '1986\\tvalley', '1987\\tvampire', '1988\\tvery', '1989\\tvice president', '1990\\tviewpoint', '1991\\tvisualize', '1992\\tvlog', '1993\\tvolleyball', '1994\\tw', '1995\\twashington', '1996\\twaterfall', '1997\\tweigh', '1998\\twheelchair', '1999\\twhistle']\n"
     ]
    }
   ],
   "source": [
    "print(class_list) "
   ]
  },
  {
   "cell_type": "code",
   "execution_count": 20,
   "metadata": {},
   "outputs": [
    {
     "ename": "IndexError",
     "evalue": "list index out of range",
     "output_type": "error",
     "traceback": [
      "\u001b[1;31m---------------------------------------------------------------------------\u001b[0m",
      "\u001b[1;31mIndexError\u001b[0m                                Traceback (most recent call last)",
      "Cell \u001b[1;32mIn[20], line 17\u001b[0m\n\u001b[0;32m     14\u001b[0m     \u001b[38;5;28;01mreturn\u001b[39;00m np\u001b[38;5;241m.\u001b[39marray(frames)\n\u001b[0;32m     16\u001b[0m \u001b[38;5;66;03m# Example: Process the first video in the training set\u001b[39;00m\n\u001b[1;32m---> 17\u001b[0m first_video_frames \u001b[38;5;241m=\u001b[39m process_video(\u001b[43mtrain_video_paths\u001b[49m\u001b[43m[\u001b[49m\u001b[38;5;241;43m0\u001b[39;49m\u001b[43m]\u001b[49m)\n\u001b[0;32m     18\u001b[0m \u001b[38;5;28mprint\u001b[39m(\u001b[38;5;124mf\u001b[39m\u001b[38;5;124m\"\u001b[39m\u001b[38;5;124mProcessed video shape: \u001b[39m\u001b[38;5;132;01m{\u001b[39;00mfirst_video_frames\u001b[38;5;241m.\u001b[39mshape\u001b[38;5;132;01m}\u001b[39;00m\u001b[38;5;124m\"\u001b[39m)\n",
      "\u001b[1;31mIndexError\u001b[0m: list index out of range"
     ]
    }
   ],
   "source": [
    "def process_video(video_path, frame_size=(224, 224)):\n",
    "    cap = cv2.VideoCapture(video_path)\n",
    "    frames = []\n",
    "    \n",
    "    while(cap.isOpened()):\n",
    "        ret, frame = cap.read()\n",
    "        if not ret:\n",
    "            break\n",
    "        # Resize the frame to a consistent size (e.g., 224x224)\n",
    "        frame_resized = cv2.resize(frame, frame_size)\n",
    "        frames.append(frame_resized)\n",
    "    \n",
    "    cap.release()\n",
    "    return np.array(frames)\n",
    "\n",
    "# Example: Process the first video in the training set\n",
    "first_video_frames = process_video(train_video_paths[0])\n",
    "print(f\"Processed video shape: {first_video_frames.shape}\")"
   ]
  }
 ],
 "metadata": {
  "kernelspec": {
   "display_name": "Python 3",
   "language": "python",
   "name": "python3"
  },
  "language_info": {
   "codemirror_mode": {
    "name": "ipython",
    "version": 3
   },
   "file_extension": ".py",
   "mimetype": "text/x-python",
   "name": "python",
   "nbconvert_exporter": "python",
   "pygments_lexer": "ipython3",
   "version": "3.10.6"
  }
 },
 "nbformat": 4,
 "nbformat_minor": 2
}
